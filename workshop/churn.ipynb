{
 "cells": [
  {
   "cell_type": "markdown",
   "id": "2ab1c41e3ce18de2",
   "metadata": {},
   "source": [
    "# Customer Churn Prediction with PySpark MLlib\n",
    "\n",
    "In this lab, we will build a machine learning pipeline using PySpark's MLlib to predict customer churn.\n",
    "\n",
    "We will use the [Telco Customer Churn](https://www.kaggle.com/datasets/blastchar/telco-customer-churn) dataset from Kaggle, which contains various features about customers that might influence churn.\n"
   ]
  },
  {
   "cell_type": "code",
   "execution_count": 1,
   "id": "6676c9adc3bf6194",
   "metadata": {},
   "outputs": [],
   "source": [
    "from pyspark.sql import SparkSession\n",
    "from pyspark.sql.functions import col, regexp_replace, when\n",
    "from pyspark.ml import Pipeline\n",
    "from pyspark.ml.feature import VectorAssembler, StringIndexer, StandardScaler\n",
    "from pyspark.ml.classification import RandomForestClassifier\n",
    "from pyspark.ml.tuning import ParamGridBuilder, CrossValidator\n",
    "from pyspark.ml.evaluation import BinaryClassificationEvaluator\n",
    "\n",
    "import matplotlib.pyplot as plt\n",
    "import pandas as pd\n",
    "import seaborn as sns"
   ]
  },
  {
   "cell_type": "markdown",
   "id": "ec2dff407bf02c48",
   "metadata": {},
   "source": [
    "## Step 1: Initializing Spark Session\n",
    "\n",
    "We start by initializing a Spark session."
   ]
  },
  {
   "cell_type": "code",
   "execution_count": 2,
   "id": "ff3575a5917fcf17",
   "metadata": {},
   "outputs": [
    {
     "name": "stderr",
     "output_type": "stream",
     "text": [
      "Setting default log level to \"WARN\".\n",
      "To adjust logging level use sc.setLogLevel(newLevel). For SparkR, use setLogLevel(newLevel).\n",
      "24/06/18 21:14:23 WARN NativeCodeLoader: Unable to load native-hadoop library for your platform... using builtin-java classes where applicable\n"
     ]
    }
   ],
   "source": [
    "spark = SparkSession.builder \\\n",
    "    .appName(\"customer-churn-prediction\") \\\n",
    "    .config(\"spark.sql.debug.maxToStringFields\", 1000) \\\n",
    "    .getOrCreate()"
   ]
  },
  {
   "cell_type": "markdown",
   "id": "a5ddd49f1d5a04af",
   "metadata": {},
   "source": [
    "## Step 2: Loading the Dataset\n",
    "\n",
    "Next, we load the [Telco Customer Churn](https://www.kaggle.com/datasets/blastchar/telco-customer-churn) dataset from a CSV file.\n",
    "\n",
    "This dataset includes various features such as customer demographics, account information, and services subscribed to by the customers."
   ]
  },
  {
   "cell_type": "code",
   "execution_count": 3,
   "id": "4c61f7944b468c76",
   "metadata": {},
   "outputs": [
    {
     "name": "stdout",
     "output_type": "stream",
     "text": [
      "+----------+------+-------------+-------+----------+------+------------+----------------+---------------+--------------+------------+----------------+-----------+-----------+---------------+--------------+----------------+--------------------+--------------+------------+-----+\n",
      "|customerID|gender|SeniorCitizen|Partner|Dependents|tenure|PhoneService|   MultipleLines|InternetService|OnlineSecurity|OnlineBackup|DeviceProtection|TechSupport|StreamingTV|StreamingMovies|      Contract|PaperlessBilling|       PaymentMethod|MonthlyCharges|TotalCharges|Churn|\n",
      "+----------+------+-------------+-------+----------+------+------------+----------------+---------------+--------------+------------+----------------+-----------+-----------+---------------+--------------+----------------+--------------------+--------------+------------+-----+\n",
      "|7590-VHVEG|Female|            0|    Yes|        No|     1|          No|No phone service|            DSL|            No|         Yes|              No|         No|         No|             No|Month-to-month|             Yes|    Electronic check|         29.85|       29.85|   No|\n",
      "|5575-GNVDE|  Male|            0|     No|        No|    34|         Yes|              No|            DSL|           Yes|          No|             Yes|         No|         No|             No|      One year|              No|        Mailed check|         56.95|      1889.5|   No|\n",
      "|3668-QPYBK|  Male|            0|     No|        No|     2|         Yes|              No|            DSL|           Yes|         Yes|              No|         No|         No|             No|Month-to-month|             Yes|        Mailed check|         53.85|      108.15|  Yes|\n",
      "|7795-CFOCW|  Male|            0|     No|        No|    45|          No|No phone service|            DSL|           Yes|          No|             Yes|        Yes|         No|             No|      One year|              No|Bank transfer (au...|          42.3|     1840.75|   No|\n",
      "|9237-HQITU|Female|            0|     No|        No|     2|         Yes|              No|    Fiber optic|            No|          No|              No|         No|         No|             No|Month-to-month|             Yes|    Electronic check|          70.7|      151.65|  Yes|\n",
      "+----------+------+-------------+-------+----------+------+------------+----------------+---------------+--------------+------------+----------------+-----------+-----------+---------------+--------------+----------------+--------------------+--------------+------------+-----+\n",
      "only showing top 5 rows\n",
      "\n"
     ]
    }
   ],
   "source": [
    "TELCO_DATA = \"../data/telco/customer-churn.csv\"\n",
    "\n",
    "data = spark.read.csv(TELCO_DATA, header=True, inferSchema=True)\n",
    "data.show(5)"
   ]
  },
  {
   "cell_type": "markdown",
   "id": "8c79633d1775f036",
   "metadata": {},
   "source": [
    "## Step 3: Data Preprocessing\n",
    "\n",
    "### 3.1 Handling Non-Numeric Values in `TotalCharges`\n",
    "\n",
    "First, we need to address any non-numeric values in the **TotalCharges** column and convert them to a numerical type.\n",
    "Additionally, we have to remove all rows with **null** values."
   ]
  },
  {
   "cell_type": "code",
   "execution_count": 4,
   "id": "1c3e3b59e93ec0f5",
   "metadata": {},
   "outputs": [
    {
     "name": "stdout",
     "output_type": "stream",
     "text": [
      "root\n",
      " |-- customerID: string (nullable = true)\n",
      " |-- gender: string (nullable = true)\n",
      " |-- SeniorCitizen: integer (nullable = true)\n",
      " |-- Partner: string (nullable = true)\n",
      " |-- Dependents: string (nullable = true)\n",
      " |-- tenure: integer (nullable = true)\n",
      " |-- PhoneService: string (nullable = true)\n",
      " |-- MultipleLines: string (nullable = true)\n",
      " |-- InternetService: string (nullable = true)\n",
      " |-- OnlineSecurity: string (nullable = true)\n",
      " |-- OnlineBackup: string (nullable = true)\n",
      " |-- DeviceProtection: string (nullable = true)\n",
      " |-- TechSupport: string (nullable = true)\n",
      " |-- StreamingTV: string (nullable = true)\n",
      " |-- StreamingMovies: string (nullable = true)\n",
      " |-- Contract: string (nullable = true)\n",
      " |-- PaperlessBilling: string (nullable = true)\n",
      " |-- PaymentMethod: string (nullable = true)\n",
      " |-- MonthlyCharges: double (nullable = true)\n",
      " |-- TotalCharges: double (nullable = true)\n",
      " |-- Churn: string (nullable = true)\n",
      "\n"
     ]
    }
   ],
   "source": [
    "data = data.withColumn(\"TotalCharges\", \n",
    "                       when(regexp_replace(col(\"TotalCharges\"), r\"^[0-9]+(\\.[0-9]+)?$\", col(\"TotalCharges\")).isNull(), None)\n",
    "                       .otherwise(col(\"TotalCharges\")))\n",
    "\n",
    "data = data.withColumn(\"TotalCharges\", col(\"TotalCharges\").cast(\"double\"))\n",
    "data = data.dropna(subset=[\"TotalCharges\"])\n",
    "\n",
    "\n",
    "data.printSchema()"
   ]
  },
  {
   "cell_type": "markdown",
   "id": "b1d08998ccb8257d",
   "metadata": {},
   "source": [
    "### 3.2 Handling Categorical Features\n",
    "\n",
    "We use `StringIndexer` to convert categorical variables into numerical format. This includes features like: \n",
    "\n",
    "<div style=\"display: flex; justify-content: space-between;\">\n",
    "\n",
    "<div style=\"flex: 1; padding: 10px;\">\n",
    "  <ul>\n",
    "    <li>gender</li>\n",
    "    <li>Partner</li>\n",
    "    <li>Dependents</li>\n",
    "    <li>PhoneService</li>\n",
    "    <li>MultipleLines</li>\n",
    "  </ul>\n",
    "</div>\n",
    "\n",
    "<div style=\"flex: 1; padding: 10px;\">\n",
    "  <ul>\n",
    "    <li>InternetService</li>\n",
    "    <li>OnlineSecurity</li>\n",
    "    <li>OnlineBackup</li>\n",
    "    <li>DeviceProtection</li>\n",
    "    <li>TechSupport</li>\n",
    "  </ul>\n",
    "</div>\n",
    "\n",
    "<div style=\"flex: 1; padding: 10px;\">\n",
    "  <ul>\n",
    "    <li>StreamingTV</li>\n",
    "    <li>StreamingMovies</li>\n",
    "    <li>Contract</li>\n",
    "    <li>PaperlessBilling</li>\n",
    "    <li>PaymentMethod</li>\n",
    "  </ul>\n",
    "</div>\n",
    "\n",
    "</div>\n",
    "\n",
    "To illustrate the preprocessing, let's take the `gender` feature as an example. \n",
    "\n",
    "| gender | genderIndexed |\n",
    "|--------|---------------|\n",
    "| Female | 0             |\n",
    "| Male   | 1             |"
   ]
  },
  {
   "cell_type": "code",
   "execution_count": 5,
   "id": "ef2c7d07d39960cf",
   "metadata": {},
   "outputs": [],
   "source": [
    "indexer = StringIndexer(\n",
    "    inputCols=[\n",
    "    'gender', 'Partner', 'Dependents', 'PhoneService', 'MultipleLines', 'InternetService', \n",
    "    'OnlineSecurity', 'OnlineBackup', 'DeviceProtection', 'TechSupport', 'StreamingTV', \n",
    "    'StreamingMovies', 'Contract', 'PaperlessBilling', 'PaymentMethod'], \n",
    "    outputCols=[\n",
    "    'genderIndexed', 'PartnerIndexed', 'DependentsIndexed', 'PhoneServiceIndexed', 'MultipleLinesIndexed', \n",
    "    'InternetServiceIndexed', 'OnlineSecurityIndexed', 'OnlineBackupIndexed', 'DeviceProtectionIndexed', \n",
    "    'TechSupportIndexed', 'StreamingTVIndexed', 'StreamingMoviesIndexed', 'ContractIndexed', \n",
    "    'PaperlessBillingIndexed', 'PaymentMethodIndexed']\n",
    ")"
   ]
  },
  {
   "cell_type": "markdown",
   "id": "e4967633a2821775",
   "metadata": {},
   "source": [
    "### 3.3 Assembling Features\n",
    "\n",
    "We use `VectorAssembler` to combine all feature columns into a single vector column named `features`.\n",
    "\n",
    "For each row, the values from *MonthlyCharges*, *TotalCharges*, *genderIndexed*, and others are concatenated in order to form the feature vector.\n",
    "\n",
    "\n",
    "#### Why Use VectorAssembler?\n",
    "\n",
    "- **Uniform Input Format:** Machine learning algorithms in Spark MLlib require input data to be in the form of a single vector of features. VectorAssembler helps in combining multiple feature columns into this required format.\n",
    "\n",
    "- **Pipeline Compatibility:** It ensures compatibility with the Spark MLlib pipeline, where all feature transformations are applied in sequence before training the model.\n",
    "\n",
    "- **Efficiency:** It consolidates the feature columns into a single vector, which can be processed more efficiently by Spark's distributed computing framework.\n",
    "\n",
    "\n",
    "| id |features             |\n",
    "|----|---------------------|\n",
    "| 0  |[18.0,1.0,0.0,5000.0]|\n",
    "| 1  |[20.0,0.0,1.0,6000.0]|\n",
    "| 2  |[30.0,1.0,0.0,7000.0]|\n",
    "| 3  |[40.0,0.0,1.0,8000.0]|"
   ]
  },
  {
   "cell_type": "code",
   "execution_count": 6,
   "id": "6e9eba9ad91f2019",
   "metadata": {},
   "outputs": [],
   "source": [
    "assembler = VectorAssembler(\n",
    "    inputCols=[\n",
    "        'SeniorCitizen', 'tenure', 'MonthlyCharges', 'TotalCharges', 'genderIndexed', 'PartnerIndexed', \n",
    "        'DependentsIndexed', 'PhoneServiceIndexed', 'MultipleLinesIndexed', 'InternetServiceIndexed', \n",
    "        'OnlineSecurityIndexed', 'OnlineBackupIndexed', 'DeviceProtectionIndexed', 'TechSupportIndexed', \n",
    "        'StreamingTVIndexed', 'StreamingMoviesIndexed', 'ContractIndexed', 'PaperlessBillingIndexed', \n",
    "        'PaymentMethodIndexed'],\n",
    "    outputCol='features'\n",
    ")"
   ]
  },
  {
   "cell_type": "markdown",
   "id": "b77a615e8103e581",
   "metadata": {},
   "source": [
    "### 3.4 Standardizing Features\n",
    "\n",
    "We use `StandardScaler` to standardize the feature values.\n",
    "\n",
    "Standardization is a preprocessing step in machine learning where features are rescaled so that they have the properties of a standard normal distribution with a mean of zero and a standard deviation of one.\n",
    "\n",
    "#### Why Standardize?\n",
    "\n",
    "- **Normalization:** Ensures that all features contribute equally to the model, preventing features with larger scales from dominating the learning process.\n",
    "\n",
    "- **Performance:** Many machine learning algorithms (e.g., linear regression, logistic regression, k-means) perform better or converge faster when features are on a similar scale.\n",
    "\n",
    "- **Stability:** Helps in numerical stability, particularly for gradient-based optimization algorithms.\n",
    "\n",
    "#### How Features are Standardized\n",
    "\n",
    "The StandardScaler in PySpark MLlib standardizes features by subtracting the mean and dividing by the standard deviation of each feature. Mathematically, for a feature $x$:\n",
    "\n",
    "$z = \\frac{x - \\mu}{\\sigma}$\n",
    "\n",
    "where:\n",
    "- $x$ is the original feature value.\n",
    "- $\\mu$ is the mean of the feature.\n",
    "- $\\sigma$ is the standard deviation of the feature.\n",
    "- $z$ is the standardized feature value."
   ]
  },
  {
   "cell_type": "code",
   "execution_count": 7,
   "id": "73a6951898568e50",
   "metadata": {},
   "outputs": [],
   "source": [
    "scaler = StandardScaler(inputCol='features', outputCol='scaledFeatures')"
   ]
  },
  {
   "cell_type": "markdown",
   "id": "89a78143c8d3aaa9",
   "metadata": {},
   "source": [
    "### 3.5 Selecting the Target Variable or Label\n",
    "\n",
    "We select the target variable, which is `Churn` in this case.\n",
    "We ensure that only rows with Churn values of Yes or No are kept.\n",
    "Then, we convert the Churn column to a binary format where Yes is mapped to 1.0 and No is mapped to 0.0."
   ]
  },
  {
   "cell_type": "code",
   "execution_count": 8,
   "id": "51309002a092906a",
   "metadata": {},
   "outputs": [],
   "source": [
    "data = data.filter((col('Churn') == 'Yes') | (col('Churn') == 'No'))\n",
    "data = data.withColumn('label', when(col('Churn') == \"Yes\", 1.0).otherwise(0.0))"
   ]
  },
  {
   "cell_type": "markdown",
   "id": "a1748478b354cd77",
   "metadata": {},
   "source": [
    "## Step 4: Splitting the Data\n",
    "\n",
    "We split the dataset into training (80%) and test (20%) sets to allow for model training and evaluation."
   ]
  },
  {
   "cell_type": "code",
   "execution_count": 9,
   "id": "9c0a94b8c6711c00",
   "metadata": {},
   "outputs": [],
   "source": [
    "train_data, test_data = data.randomSplit([0.8, 0.2], seed=42)"
   ]
  },
  {
   "cell_type": "markdown",
   "id": "33ed24d6a2da6150",
   "metadata": {},
   "source": [
    "## Step 5: Initializing the RandomForestClassifier\n",
    "\n",
    "We initialize a random forest classifier, which will be used to predict customer churn."
   ]
  },
  {
   "cell_type": "code",
   "execution_count": 10,
   "id": "fdc52caf2149f55f",
   "metadata": {},
   "outputs": [],
   "source": [
    "classifier = RandomForestClassifier(featuresCol='scaledFeatures', labelCol='label')"
   ]
  },
  {
   "cell_type": "markdown",
   "id": "6f3de514f5737ae7",
   "metadata": {},
   "source": [
    "## Step 6: Creating a Parameter Grid\n",
    "\n",
    "We create a parameter grid for hyperparameter tuning, allowing us to experiment with different values for the number of trees and the maximum depth of the trees."
   ]
  },
  {
   "cell_type": "code",
   "execution_count": 11,
   "id": "740e7d8fe327163b",
   "metadata": {},
   "outputs": [],
   "source": [
    "param_grid = ParamGridBuilder() \\\n",
    "    .addGrid(classifier.numTrees, [10, 20, 30]) \\\n",
    "    .addGrid(classifier.maxDepth, [5, 10, 15]) \\\n",
    "    .build()"
   ]
  },
  {
   "cell_type": "markdown",
   "id": "d5d17bffad90792b",
   "metadata": {},
   "source": [
    "## Step 7: Initializing the Evaluator\n",
    "\n",
    "To evaluate the performance of our binary classification model, we use the ROC curve and the area under the curve (AUC) as our evaluation metrics.\n",
    "\n",
    "\n",
    "- **[ROC Curve](https://developers.google.com/machine-learning/crash-course/classification/roc-and-auc):**\n",
    "The Receiver Operating Characteristic (ROC) curve is a graphical representation of a classifier's performance across all classification thresholds. It plots the True Positive Rate (TPR) against the False Positive Rate (FPR) at various threshold settings.\n",
    "\n",
    "- **AUC (Area Under the Curve):**\n",
    "The AUC is a single scalar value that summarizes the performance of the classifier. It represents the probability that a randomly chosen positive instance is ranked higher than a randomly chosen negative instance. An AUC value of 1 indicates a perfect model, while an AUC value of 0.5 suggests a model with no discriminative ability.\n",
    "\n",
    "- **BinaryClassificationEvaluator:**\n",
    "In Spark MLlib, the BinaryClassificationEvaluator is used to compute the AUC for binary classification models. It evaluates the model's performance based on the area under the ROC curve (AUC)."
   ]
  },
  {
   "cell_type": "code",
   "execution_count": 12,
   "id": "9d979d2dda2ca3de",
   "metadata": {},
   "outputs": [],
   "source": [
    "evaluator = BinaryClassificationEvaluator(labelCol='label', rawPredictionCol='prediction')"
   ]
  },
  {
   "cell_type": "markdown",
   "id": "7ec79f422a0a1e4a",
   "metadata": {},
   "source": [
    "## Step 8: Initializing the CrossValidator\n",
    "\n",
    "We use cross-validation to perform hyperparameter tuning and model evaluation.\n",
    "\n",
    "K-fold cross validation performs model selection by splitting the dataset into a set of non-overlapping randomly partitioned folds which are used as separate training and test datasets.\n",
    "\n",
    "With k=5 folds, K-fold cross validation will generate 5 (training, test) dataset pairs, each of which uses 4/5 of the data for training and 1/5 for testing."
   ]
  },
  {
   "cell_type": "code",
   "execution_count": 13,
   "id": "be7a9eaa2f115d65",
   "metadata": {},
   "outputs": [],
   "source": [
    "crossval = CrossValidator(estimator=classifier,\n",
    "                          estimatorParamMaps=param_grid,\n",
    "                          evaluator=evaluator,\n",
    "                          numFolds=5)"
   ]
  },
  {
   "cell_type": "markdown",
   "id": "735fb5e69c4674e2",
   "metadata": {},
   "source": [
    "## Step 9: Creating and Fitting the Pipeline\n",
    "\n",
    "We create a pipeline that includes the preprocessing steps, the random forest classifier, and the cross-validator. The model is then fitted to the training data."
   ]
  },
  {
   "cell_type": "code",
   "execution_count": 14,
   "id": "20d1d8d6d62c402a",
   "metadata": {},
   "outputs": [
    {
     "name": "stderr",
     "output_type": "stream",
     "text": [
      "24/06/18 21:14:33 WARN DAGScheduler: Broadcasting large task binary with size 1081.7 KiB\n",
      "24/06/18 21:14:33 WARN DAGScheduler: Broadcasting large task binary with size 1315.8 KiB\n",
      "24/06/18 21:14:33 WARN DAGScheduler: Broadcasting large task binary with size 1529.6 KiB\n",
      "24/06/18 21:14:33 WARN DAGScheduler: Broadcasting large task binary with size 1702.7 KiB\n",
      "24/06/18 21:14:33 WARN DAGScheduler: Broadcasting large task binary with size 1833.1 KiB\n",
      "24/06/18 21:14:33 WARN DAGScheduler: Broadcasting large task binary with size 1140.0 KiB\n",
      "24/06/18 21:14:35 WARN DAGScheduler: Broadcasting large task binary with size 1050.4 KiB\n",
      "24/06/18 21:14:35 WARN DAGScheduler: Broadcasting large task binary with size 1455.6 KiB\n",
      "24/06/18 21:14:35 WARN GarbageCollectionMetrics: To enable non-built-in garbage collector(s) List(G1 Concurrent GC), users should configure it(them) to spark.eventLog.gcMetrics.youngGenerationGarbageCollectors or spark.eventLog.gcMetrics.oldGenerationGarbageCollectors\n",
      "24/06/18 21:14:36 WARN DAGScheduler: Broadcasting large task binary with size 1050.4 KiB\n",
      "24/06/18 21:14:36 WARN DAGScheduler: Broadcasting large task binary with size 1455.6 KiB\n",
      "24/06/18 21:14:36 WARN DAGScheduler: Broadcasting large task binary with size 1919.7 KiB\n",
      "24/06/18 21:14:37 WARN DAGScheduler: Broadcasting large task binary with size 2.3 MiB\n",
      "24/06/18 21:14:37 WARN DAGScheduler: Broadcasting large task binary with size 2.7 MiB\n",
      "24/06/18 21:14:37 WARN DAGScheduler: Broadcasting large task binary with size 3.1 MiB\n",
      "24/06/18 21:14:37 WARN DAGScheduler: Broadcasting large task binary with size 3.4 MiB\n",
      "24/06/18 21:14:38 WARN DAGScheduler: Broadcasting large task binary with size 2.0 MiB\n",
      "24/06/18 21:14:39 WARN DAGScheduler: Broadcasting large task binary with size 1003.6 KiB\n",
      "24/06/18 21:14:39 WARN DAGScheduler: Broadcasting large task binary with size 1490.7 KiB\n",
      "24/06/18 21:14:40 WARN DAGScheduler: Broadcasting large task binary with size 2.1 MiB\n",
      "24/06/18 21:14:40 WARN DAGScheduler: Broadcasting large task binary with size 1355.1 KiB\n",
      "24/06/18 21:14:41 WARN DAGScheduler: Broadcasting large task binary with size 1003.6 KiB\n",
      "24/06/18 21:14:41 WARN DAGScheduler: Broadcasting large task binary with size 1490.7 KiB\n",
      "24/06/18 21:14:41 WARN DAGScheduler: Broadcasting large task binary with size 2.1 MiB\n",
      "24/06/18 21:14:42 WARN DAGScheduler: Broadcasting large task binary with size 2.7 MiB\n",
      "24/06/18 21:14:42 WARN DAGScheduler: Broadcasting large task binary with size 3.4 MiB\n",
      "24/06/18 21:14:42 WARN DAGScheduler: Broadcasting large task binary with size 4.0 MiB\n",
      "24/06/18 21:14:43 WARN DAGScheduler: Broadcasting large task binary with size 4.5 MiB\n",
      "24/06/18 21:14:43 WARN DAGScheduler: Broadcasting large task binary with size 4.9 MiB\n",
      "24/06/18 21:14:43 WARN DAGScheduler: Broadcasting large task binary with size 2.9 MiB\n",
      "24/06/18 21:14:46 WARN DAGScheduler: Broadcasting large task binary with size 1051.4 KiB\n",
      "24/06/18 21:14:46 WARN DAGScheduler: Broadcasting large task binary with size 1279.1 KiB\n",
      "24/06/18 21:14:46 WARN DAGScheduler: Broadcasting large task binary with size 1484.0 KiB\n",
      "24/06/18 21:14:47 WARN DAGScheduler: Broadcasting large task binary with size 1651.6 KiB\n",
      "24/06/18 21:14:47 WARN DAGScheduler: Broadcasting large task binary with size 1779.4 KiB\n",
      "24/06/18 21:14:47 WARN DAGScheduler: Broadcasting large task binary with size 1100.0 KiB\n",
      "24/06/18 21:14:48 WARN DAGScheduler: Broadcasting large task binary with size 1041.9 KiB\n",
      "24/06/18 21:14:49 WARN DAGScheduler: Broadcasting large task binary with size 1445.9 KiB\n",
      "24/06/18 21:14:50 WARN DAGScheduler: Broadcasting large task binary with size 1041.9 KiB\n",
      "24/06/18 21:14:50 WARN DAGScheduler: Broadcasting large task binary with size 1445.9 KiB\n",
      "24/06/18 21:14:50 WARN DAGScheduler: Broadcasting large task binary with size 1901.0 KiB\n",
      "24/06/18 21:14:50 WARN DAGScheduler: Broadcasting large task binary with size 2.3 MiB\n",
      "24/06/18 21:14:51 WARN DAGScheduler: Broadcasting large task binary with size 2.7 MiB\n",
      "24/06/18 21:14:51 WARN DAGScheduler: Broadcasting large task binary with size 3.0 MiB\n",
      "24/06/18 21:14:51 WARN DAGScheduler: Broadcasting large task binary with size 3.3 MiB\n",
      "24/06/18 21:14:51 WARN DAGScheduler: Broadcasting large task binary with size 2011.7 KiB\n",
      "24/06/18 21:14:53 WARN DAGScheduler: Broadcasting large task binary with size 1448.7 KiB\n",
      "24/06/18 21:14:53 WARN DAGScheduler: Broadcasting large task binary with size 2040.0 KiB\n",
      "24/06/18 21:14:53 WARN DAGScheduler: Broadcasting large task binary with size 1306.4 KiB\n",
      "24/06/18 21:14:54 WARN DAGScheduler: Broadcasting large task binary with size 1448.7 KiB\n",
      "24/06/18 21:14:55 WARN DAGScheduler: Broadcasting large task binary with size 2040.0 KiB\n",
      "24/06/18 21:14:55 WARN DAGScheduler: Broadcasting large task binary with size 2.6 MiB\n",
      "24/06/18 21:14:55 WARN DAGScheduler: Broadcasting large task binary with size 3.3 MiB\n",
      "24/06/18 21:14:56 WARN DAGScheduler: Broadcasting large task binary with size 3.9 MiB\n",
      "24/06/18 21:14:56 WARN DAGScheduler: Broadcasting large task binary with size 4.4 MiB\n",
      "24/06/18 21:14:56 WARN DAGScheduler: Broadcasting large task binary with size 4.8 MiB\n",
      "24/06/18 21:14:57 WARN DAGScheduler: Broadcasting large task binary with size 2.8 MiB\n",
      "24/06/18 21:14:59 WARN DAGScheduler: Broadcasting large task binary with size 1062.7 KiB\n",
      "24/06/18 21:14:59 WARN DAGScheduler: Broadcasting large task binary with size 1295.8 KiB\n",
      "24/06/18 21:14:59 WARN DAGScheduler: Broadcasting large task binary with size 1504.7 KiB\n",
      "24/06/18 21:15:00 WARN DAGScheduler: Broadcasting large task binary with size 1675.5 KiB\n",
      "24/06/18 21:15:00 WARN DAGScheduler: Broadcasting large task binary with size 1806.4 KiB\n",
      "24/06/18 21:15:00 WARN DAGScheduler: Broadcasting large task binary with size 1111.4 KiB\n",
      "24/06/18 21:15:01 WARN DAGScheduler: Broadcasting large task binary with size 1050.9 KiB\n",
      "24/06/18 21:15:02 WARN DAGScheduler: Broadcasting large task binary with size 1467.9 KiB\n",
      "24/06/18 21:15:03 WARN DAGScheduler: Broadcasting large task binary with size 1050.9 KiB\n",
      "24/06/18 21:15:03 WARN DAGScheduler: Broadcasting large task binary with size 1467.9 KiB\n",
      "24/06/18 21:15:03 WARN DAGScheduler: Broadcasting large task binary with size 1929.0 KiB\n",
      "24/06/18 21:15:03 WARN DAGScheduler: Broadcasting large task binary with size 2.3 MiB\n",
      "24/06/18 21:15:03 WARN DAGScheduler: Broadcasting large task binary with size 2.8 MiB\n",
      "24/06/18 21:15:03 WARN DAGScheduler: Broadcasting large task binary with size 3.1 MiB\n",
      "24/06/18 21:15:04 WARN DAGScheduler: Broadcasting large task binary with size 3.4 MiB\n",
      "24/06/18 21:15:04 WARN DAGScheduler: Broadcasting large task binary with size 2.0 MiB\n",
      "24/06/18 21:15:05 WARN DAGScheduler: Broadcasting large task binary with size 1001.7 KiB\n",
      "24/06/18 21:15:05 WARN DAGScheduler: Broadcasting large task binary with size 1487.3 KiB\n",
      "24/06/18 21:15:05 WARN DAGScheduler: Broadcasting large task binary with size 2.0 MiB\n",
      "24/06/18 21:15:06 WARN DAGScheduler: Broadcasting large task binary with size 1340.1 KiB\n",
      "24/06/18 21:15:07 WARN DAGScheduler: Broadcasting large task binary with size 1001.7 KiB\n",
      "24/06/18 21:15:07 WARN DAGScheduler: Broadcasting large task binary with size 1487.3 KiB\n",
      "24/06/18 21:15:07 WARN DAGScheduler: Broadcasting large task binary with size 2.0 MiB\n",
      "24/06/18 21:15:07 WARN DAGScheduler: Broadcasting large task binary with size 2.7 MiB\n",
      "24/06/18 21:15:07 WARN DAGScheduler: Broadcasting large task binary with size 3.4 MiB\n",
      "24/06/18 21:15:08 WARN DAGScheduler: Broadcasting large task binary with size 4.0 MiB\n",
      "24/06/18 21:15:08 WARN DAGScheduler: Broadcasting large task binary with size 4.5 MiB\n",
      "24/06/18 21:15:08 WARN DAGScheduler: Broadcasting large task binary with size 4.9 MiB\n",
      "24/06/18 21:15:09 WARN DAGScheduler: Broadcasting large task binary with size 2.9 MiB\n",
      "24/06/18 21:15:11 WARN DAGScheduler: Broadcasting large task binary with size 1060.0 KiB\n",
      "24/06/18 21:15:12 WARN DAGScheduler: Broadcasting large task binary with size 1287.9 KiB\n",
      "24/06/18 21:15:12 WARN DAGScheduler: Broadcasting large task binary with size 1498.9 KiB\n",
      "24/06/18 21:15:12 WARN DAGScheduler: Broadcasting large task binary with size 1679.3 KiB\n",
      "24/06/18 21:15:12 WARN DAGScheduler: Broadcasting large task binary with size 1816.5 KiB\n",
      "24/06/18 21:15:12 WARN DAGScheduler: Broadcasting large task binary with size 1120.5 KiB\n",
      "24/06/18 21:15:14 WARN DAGScheduler: Broadcasting large task binary with size 1038.5 KiB\n",
      "24/06/18 21:15:14 WARN DAGScheduler: Broadcasting large task binary with size 1454.9 KiB\n",
      "24/06/18 21:15:15 WARN DAGScheduler: Broadcasting large task binary with size 1038.5 KiB\n",
      "24/06/18 21:15:15 WARN DAGScheduler: Broadcasting large task binary with size 1455.0 KiB\n",
      "24/06/18 21:15:15 WARN DAGScheduler: Broadcasting large task binary with size 1923.0 KiB\n",
      "24/06/18 21:15:15 WARN DAGScheduler: Broadcasting large task binary with size 2.3 MiB\n",
      "24/06/18 21:15:16 WARN DAGScheduler: Broadcasting large task binary with size 2.7 MiB\n",
      "24/06/18 21:15:16 WARN DAGScheduler: Broadcasting large task binary with size 3.1 MiB\n",
      "24/06/18 21:15:16 WARN DAGScheduler: Broadcasting large task binary with size 3.4 MiB\n",
      "24/06/18 21:15:16 WARN DAGScheduler: Broadcasting large task binary with size 2030.2 KiB\n",
      "24/06/18 21:15:18 WARN DAGScheduler: Broadcasting large task binary with size 1019.0 KiB\n",
      "24/06/18 21:15:18 WARN DAGScheduler: Broadcasting large task binary with size 1515.3 KiB\n",
      "24/06/18 21:15:18 WARN DAGScheduler: Broadcasting large task binary with size 2.1 MiB\n",
      "24/06/18 21:15:18 WARN DAGScheduler: Broadcasting large task binary with size 1363.4 KiB\n",
      "24/06/18 21:15:19 WARN DAGScheduler: Broadcasting large task binary with size 1019.0 KiB\n",
      "24/06/18 21:15:20 WARN DAGScheduler: Broadcasting large task binary with size 1515.3 KiB\n",
      "24/06/18 21:15:20 WARN DAGScheduler: Broadcasting large task binary with size 2.1 MiB\n",
      "24/06/18 21:15:20 WARN DAGScheduler: Broadcasting large task binary with size 2.8 MiB\n",
      "24/06/18 21:15:20 WARN DAGScheduler: Broadcasting large task binary with size 3.5 MiB\n",
      "24/06/18 21:15:21 WARN DAGScheduler: Broadcasting large task binary with size 4.1 MiB\n",
      "24/06/18 21:15:21 WARN DAGScheduler: Broadcasting large task binary with size 4.6 MiB\n",
      "24/06/18 21:15:21 WARN DAGScheduler: Broadcasting large task binary with size 5.0 MiB\n",
      "24/06/18 21:15:22 WARN DAGScheduler: Broadcasting large task binary with size 2.9 MiB\n",
      "24/06/18 21:15:24 WARN DAGScheduler: Broadcasting large task binary with size 1072.7 KiB\n",
      "24/06/18 21:15:24 WARN DAGScheduler: Broadcasting large task binary with size 1316.0 KiB\n",
      "24/06/18 21:15:24 WARN DAGScheduler: Broadcasting large task binary with size 1543.8 KiB\n",
      "24/06/18 21:15:25 WARN DAGScheduler: Broadcasting large task binary with size 1729.7 KiB\n",
      "24/06/18 21:15:25 WARN DAGScheduler: Broadcasting large task binary with size 1867.5 KiB\n",
      "24/06/18 21:15:25 WARN DAGScheduler: Broadcasting large task binary with size 1155.0 KiB\n",
      "24/06/18 21:15:26 WARN DAGScheduler: Broadcasting large task binary with size 1073.5 KiB\n",
      "24/06/18 21:15:26 WARN DAGScheduler: Broadcasting large task binary with size 1501.0 KiB\n",
      "24/06/18 21:15:27 WARN DAGScheduler: Broadcasting large task binary with size 1073.5 KiB\n",
      "24/06/18 21:15:28 WARN DAGScheduler: Broadcasting large task binary with size 1501.0 KiB\n",
      "24/06/18 21:15:28 WARN DAGScheduler: Broadcasting large task binary with size 1977.8 KiB\n",
      "24/06/18 21:15:28 WARN DAGScheduler: Broadcasting large task binary with size 2.4 MiB\n",
      "24/06/18 21:15:28 WARN DAGScheduler: Broadcasting large task binary with size 2.8 MiB\n",
      "24/06/18 21:15:28 WARN DAGScheduler: Broadcasting large task binary with size 3.2 MiB\n",
      "24/06/18 21:15:29 WARN DAGScheduler: Broadcasting large task binary with size 3.4 MiB\n",
      "24/06/18 21:15:29 WARN DAGScheduler: Broadcasting large task binary with size 2.0 MiB\n",
      "24/06/18 21:15:30 WARN DAGScheduler: Broadcasting large task binary with size 1009.9 KiB\n",
      "24/06/18 21:15:31 WARN DAGScheduler: Broadcasting large task binary with size 1507.0 KiB\n",
      "24/06/18 21:15:31 WARN DAGScheduler: Broadcasting large task binary with size 2.1 MiB\n",
      "24/06/18 21:15:31 WARN DAGScheduler: Broadcasting large task binary with size 1360.1 KiB\n",
      "24/06/18 21:15:32 WARN DAGScheduler: Broadcasting large task binary with size 1009.9 KiB\n",
      "24/06/18 21:15:32 WARN DAGScheduler: Broadcasting large task binary with size 1507.0 KiB\n",
      "24/06/18 21:15:32 WARN DAGScheduler: Broadcasting large task binary with size 2.1 MiB\n",
      "24/06/18 21:15:32 WARN DAGScheduler: Broadcasting large task binary with size 2.8 MiB\n",
      "24/06/18 21:15:33 WARN DAGScheduler: Broadcasting large task binary with size 3.5 MiB\n",
      "24/06/18 21:15:33 WARN DAGScheduler: Broadcasting large task binary with size 4.1 MiB\n",
      "24/06/18 21:15:33 WARN DAGScheduler: Broadcasting large task binary with size 4.6 MiB\n",
      "24/06/18 21:15:34 WARN DAGScheduler: Broadcasting large task binary with size 5.0 MiB\n",
      "24/06/18 21:15:34 WARN DAGScheduler: Broadcasting large task binary with size 2.9 MiB\n"
     ]
    }
   ],
   "source": [
    "pipeline = Pipeline(stages=[indexer, assembler, scaler, crossval])\n",
    "\n",
    "model = pipeline.fit(train_data)"
   ]
  },
  {
   "cell_type": "markdown",
   "id": "5309e34098da9cc5",
   "metadata": {},
   "source": [
    "## Step 10: Making Predictions and Evaluating the Model\n",
    "\n",
    "We make predictions on the test set and evaluate the model using the AUC metric."
   ]
  },
  {
   "cell_type": "code",
   "execution_count": 15,
   "id": "f00cbde547e0a7ff",
   "metadata": {},
   "outputs": [
    {
     "name": "stdout",
     "output_type": "stream",
     "text": [
      "AUC: 0.7131167227063747\n"
     ]
    }
   ],
   "source": [
    "predictions = model.transform(test_data)\n",
    "\n",
    "auc = evaluator.evaluate(predictions)\n",
    "print(f\"AUC: {auc}\")"
   ]
  },
  {
   "cell_type": "markdown",
   "id": "f8239d3aa8be42be",
   "metadata": {},
   "source": [
    "## Step 11: Displaying Feature Importance\n",
    "\n",
    "We extract and plot the feature importances to understand which features are most influential in predicting customer churn."
   ]
  },
  {
   "cell_type": "code",
   "execution_count": 16,
   "id": "4a5e8a6acad45fcf",
   "metadata": {},
   "outputs": [
    {
     "data": {
      "image/png": "[encoded data removed]",
      "text/plain": [
       "<Figure size 1200x800 with 1 Axes>"
      ]
     },
     "metadata": {},
     "output_type": "display_data"
    }
   ],
   "source": [
    "rf_model = model.stages[-1].bestModel\n",
    "feature_importances = rf_model.featureImportances.toArray()\n",
    "\n",
    "features = ['SeniorCitizen', 'tenure', 'MonthlyCharges', 'TotalCharges', 'genderIndexed', 'PartnerIndexed', \n",
    "            'DependentsIndexed', 'PhoneServiceIndexed', 'MultipleLinesIndexed', 'InternetServiceIndexed', \n",
    "            'OnlineSecurityIndexed', 'OnlineBackupIndexed', 'DeviceProtectionIndexed', 'TechSupportIndexed', \n",
    "            'StreamingTVIndexed', 'StreamingMoviesIndexed', 'ContractIndexed', 'PaperlessBillingIndexed', \n",
    "            'PaymentMethodIndexed']\n",
    "\n",
    "feature_importances_df = pd.DataFrame({\n",
    "    'Feature': features,\n",
    "    'Importance': feature_importances\n",
    "})\n",
    "\n",
    "feature_importances_df = feature_importances_df.sort_values(by='Importance', ascending=False)\n",
    "\n",
    "plt.figure(figsize=(12, 8))\n",
    "sns.barplot(x='Importance', y='Feature', data=feature_importances_df)\n",
    "plt.xlabel('Feature Importance', fontsize=14)\n",
    "plt.ylabel('Feature', fontsize=14)\n",
    "plt.title('Feature Importance for Customer Churn Prediction', fontsize=16)\n",
    "plt.xticks(fontsize=12)\n",
    "plt.yticks(fontsize=12)\n",
    "plt.show()"
   ]
  },
  {
   "cell_type": "markdown",
   "id": "9b581307d94ad786",
   "metadata": {},
   "source": [
    "## Step 12: Closing the Spark Session\n",
    "\n",
    "Finally, we close the Spark session to release resources."
   ]
  },
  {
   "cell_type": "code",
   "execution_count": 17,
   "id": "38dcb07737aad001",
   "metadata": {},
   "outputs": [],
   "source": [
    "spark.stop()"
   ]
  }
 ],
 "metadata": {
  "kernelspec": {
   "display_name": "Python 3",
   "language": "python",
   "name": "python3"
  },
  "language_info": {
   "codemirror_mode": {
    "name": "ipython",
    "version": 3
   },
   "file_extension": ".py",
   "mimetype": "text/x-python",
   "name": "python",
   "nbconvert_exporter": "python",
   "pygments_lexer": "ipython3",
   "version": "3.12.3"
  }
 },
 "nbformat": 4,
 "nbformat_minor": 5
}
